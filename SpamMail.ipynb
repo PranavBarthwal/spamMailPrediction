{
  "nbformat": 4,
  "nbformat_minor": 0,
  "metadata": {
    "colab": {
      "provenance": [],
      "toc_visible": true,
      "mount_file_id": "1uNLFnNc-xGGWBIkKMOf7bb7pQuFGkdu9",
      "authorship_tag": "ABX9TyPC7D2eISBejUUDn/ax/Vid",
      "include_colab_link": true
    },
    "kernelspec": {
      "name": "python3",
      "display_name": "Python 3"
    },
    "language_info": {
      "name": "python"
    }
  },
  "cells": [
    {
      "cell_type": "markdown",
      "metadata": {
        "id": "view-in-github",
        "colab_type": "text"
      },
      "source": [
        "<a href=\"https://colab.research.google.com/github/PranavBarthwal/spamMailPrediction/blob/main/SpamMail.ipynb\" target=\"_parent\"><img src=\"https://colab.research.google.com/assets/colab-badge.svg\" alt=\"Open In Colab\"/></a>"
      ]
    },
    {
      "cell_type": "markdown",
      "source": [
        "# 1. Importing Dataset"
      ],
      "metadata": {
        "id": "6dNIis0LP5pI"
      }
    },
    {
      "cell_type": "code",
      "execution_count": null,
      "metadata": {
        "id": "TmaTiKG8Odxu"
      },
      "outputs": [],
      "source": [
        "import pandas as pd\n",
        "import numpy as np\n",
        "\n",
        "df = pd.read_csv('/content/spam.csv')\n",
        "\n",
        "df.sample(5)"
      ]
    },
    {
      "cell_type": "markdown",
      "source": [
        "# 2. Cleaning Dataset\n"
      ],
      "metadata": {
        "id": "QzcxaDiLP6XM"
      }
    },
    {
      "cell_type": "code",
      "source": [],
      "metadata": {
        "id": "_nkmQ32NP5CP"
      },
      "execution_count": null,
      "outputs": []
    }
  ]
}